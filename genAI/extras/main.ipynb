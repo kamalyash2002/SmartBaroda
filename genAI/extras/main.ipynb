{
 "cells": [
  {
   "cell_type": "code",
   "execution_count": 31,
   "metadata": {},
   "outputs": [],
   "source": [
    "from langchain.llms import AzureOpenAI\n",
    "from langchain.chat_models import AzureChatOpenAI\n",
    "import openai\n",
    "import os\n",
    "from dotenv import load_dotenv, find_dotenv"
   ]
  },
  {
   "cell_type": "markdown",
   "metadata": {},
   "source": [
    "Configuring all the credentials to access the OpenAI API for the particukar model"
   ]
  },
  {
   "cell_type": "code",
   "execution_count": 32,
   "metadata": {},
   "outputs": [
    {
     "data": {
      "text/plain": [
       "True"
      ]
     },
     "execution_count": 32,
     "metadata": {},
     "output_type": "execute_result"
    }
   ],
   "source": [
    "load_dotenv(find_dotenv())"
   ]
  },
  {
   "cell_type": "markdown",
   "metadata": {},
   "source": [
    "Instantiating the Model"
   ]
  },
  {
   "cell_type": "code",
   "execution_count": 33,
   "metadata": {},
   "outputs": [],
   "source": [
    "# Retrieve Azure OpenAI specific configuration from environment variables\n",
    "OPENAI_API_KEY = os.getenv(\"AZURE_OPENAI_API_KEY\")\n",
    "OPENAI_API_TYPE = os.getenv(\"AZURE_OPENAI_API_TYPE\")\n",
    "OPENAI_API_BASE = os.getenv(\"AZURE_OPENAI_API_BASE\")\n",
    "OPENAI_API_VERSION = os.getenv(\"OPENAI_API_VERSION\")\n",
    "\n"
   ]
  },
  {
   "cell_type": "code",
   "execution_count": 34,
   "metadata": {},
   "outputs": [],
   "source": [
    "openai.api_type = OPENAI_API_TYPE\n",
    "openai.api_base = OPENAI_API_BASE\n",
    "openai.api_version = OPENAI_API_VERSION\n",
    "openai.api_key = OPENAI_API_KEY"
   ]
  },
  {
   "cell_type": "code",
   "execution_count": 1,
   "metadata": {},
   "outputs": [
    {
     "name": "stderr",
     "output_type": "stream",
     "text": [
      "/Users/yashkamalsaxena/Desktop/Code/SmartBaroda/venv/lib/python3.11/site-packages/langchain_core/_api/deprecation.py:139: LangChainDeprecationWarning: The class `AzureChatOpenAI` was deprecated in LangChain 0.0.10 and will be removed in 0.3.0. An updated version of the class exists in the langchain-openai package and should be used instead. To use it run `pip install -U langchain-openai` and import as `from langchain_openai import AzureChatOpenAI`.\n",
      "  warn_deprecated(\n",
      "/Users/yashkamalsaxena/Desktop/Code/SmartBaroda/venv/lib/python3.11/site-packages/langchain_core/_api/deprecation.py:139: LangChainDeprecationWarning: The method `BaseChatModel.__call__` was deprecated in langchain-core 0.1.7 and will be removed in 0.3.0. Use invoke instead.\n",
      "  warn_deprecated(\n"
     ]
    },
    {
     "name": "stdout",
     "output_type": "stream",
     "text": [
      "[SystemMessage(content='You are Loan Recommendation Chatbot. You will have the Loan Data and customer information to recommend the best loan for the customer. '), HumanMessage(content='Tell me about the history of cricket in 40 words')]\n",
      "Cricket originated in England in the 16th century and has since evolved into a popular global sport. It is known for its rich traditions, competitive spirit, and has a significant impact on cultures and societies worldwide.\n",
      "91\n"
     ]
    }
   ],
   "source": [
    "import os\n",
    "from langchain_openai import OpenAI\n",
    "from langchain.llms import AzureOpenAI\n",
    "from langchain.chat_models import AzureChatOpenAI\n",
    "from langchain.schema import SystemMessage, HumanMessage\n",
    "from langchain.callbacks import get_openai_callback\n",
    "\n",
    "# check the os environment variable settings\n",
    "azure_openai_api_key = os.environ[\"AZURE_OPENAI_API_KEY\"]\n",
    "azure_openai_endpoint = os.environ[\"AZURE_OPENAI_ENDPOINT\"]\n",
    "\n",
    "\n",
    "## Initialising the Auzre Chat OpenAI model\n",
    "llm = AzureChatOpenAI(\n",
    "    openai_api_version=\"2024-04-01-preview\",\n",
    "    azure_deployment=\"llm_model\",\n",
    "    model_name=\"gpt3.5-turbo\"\n",
    ")\n",
    "\n",
    "messages = [\n",
    "    SystemMessage(\n",
    "        content=(\n",
    "            \"You are Loan Recommendation Chatbot. You will have the Loan Data and customer information to recommend the best loan for the customer. \"\n",
    "        )\n",
    "    ),\n",
    "    HumanMessage(content=\"Tell me about the history of cricket in 40 words\"),\n",
    "\n",
    "]\n",
    "\n",
    "print(messages)\n",
    "\n",
    "with get_openai_callback() as cb:\n",
    "\n",
    "    res = llm(messages)\n",
    "\n",
    "    # print the response\n",
    "    print(res.content)\n",
    "\n",
    "    # print the total tokens used\n",
    "    print(cb.total_tokens)\n"
   ]
  }
 ],
 "metadata": {
  "kernelspec": {
   "display_name": "venv",
   "language": "python",
   "name": "python3"
  },
  "language_info": {
   "codemirror_mode": {
    "name": "ipython",
    "version": 3
   },
   "file_extension": ".py",
   "mimetype": "text/x-python",
   "name": "python",
   "nbconvert_exporter": "python",
   "pygments_lexer": "ipython3",
   "version": "3.11.1"
  }
 },
 "nbformat": 4,
 "nbformat_minor": 2
}
